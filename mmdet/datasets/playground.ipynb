{
 "cells": [
  {
   "cell_type": "code",
   "execution_count": 86,
   "metadata": {},
   "outputs": [
    {
     "data": {
      "text/html": [
       "<div>\n",
       "<style>\n",
       "    .dataframe thead tr:only-child th {\n",
       "        text-align: right;\n",
       "    }\n",
       "\n",
       "    .dataframe thead th {\n",
       "        text-align: left;\n",
       "    }\n",
       "\n",
       "    .dataframe tbody tr th {\n",
       "        vertical-align: top;\n",
       "    }\n",
       "</style>\n",
       "<table border=\"1\" class=\"dataframe\">\n",
       "  <thead>\n",
       "    <tr style=\"text-align: right;\">\n",
       "      <th></th>\n",
       "      <th>ImageId</th>\n",
       "      <th>EncodedPixels</th>\n",
       "    </tr>\n",
       "  </thead>\n",
       "  <tbody>\n",
       "    <tr>\n",
       "      <th>0</th>\n",
       "      <td>00003e153.jpg</td>\n",
       "      <td>NaN</td>\n",
       "    </tr>\n",
       "    <tr>\n",
       "      <th>1</th>\n",
       "      <td>0001124c7.jpg</td>\n",
       "      <td>NaN</td>\n",
       "    </tr>\n",
       "    <tr>\n",
       "      <th>2</th>\n",
       "      <td>000155de5.jpg</td>\n",
       "      <td>264661 17 265429 33 266197 33 266965 33 267733...</td>\n",
       "    </tr>\n",
       "    <tr>\n",
       "      <th>3</th>\n",
       "      <td>000194a2d.jpg</td>\n",
       "      <td>360486 1 361252 4 362019 5 362785 8 363552 10 ...</td>\n",
       "    </tr>\n",
       "    <tr>\n",
       "      <th>4</th>\n",
       "      <td>000194a2d.jpg</td>\n",
       "      <td>51834 9 52602 9 53370 9 54138 9 54906 9 55674 ...</td>\n",
       "    </tr>\n",
       "    <tr>\n",
       "      <th>5</th>\n",
       "      <td>000194a2d.jpg</td>\n",
       "      <td>198320 10 199088 10 199856 10 200624 10 201392...</td>\n",
       "    </tr>\n",
       "    <tr>\n",
       "      <th>6</th>\n",
       "      <td>000194a2d.jpg</td>\n",
       "      <td>55683 1 56451 1 57219 1 57987 1 58755 1 59523 ...</td>\n",
       "    </tr>\n",
       "    <tr>\n",
       "      <th>7</th>\n",
       "      <td>000194a2d.jpg</td>\n",
       "      <td>254389 9 255157 17 255925 17 256693 17 257461 ...</td>\n",
       "    </tr>\n",
       "    <tr>\n",
       "      <th>8</th>\n",
       "      <td>0001b1832.jpg</td>\n",
       "      <td>NaN</td>\n",
       "    </tr>\n",
       "    <tr>\n",
       "      <th>9</th>\n",
       "      <td>00021ddc3.jpg</td>\n",
       "      <td>108287 1 109054 3 109821 4 110588 5 111356 5 1...</td>\n",
       "    </tr>\n",
       "    <tr>\n",
       "      <th>10</th>\n",
       "      <td>00021ddc3.jpg</td>\n",
       "      <td>101361 1 102128 3 102896 4 103663 6 104430 9 1...</td>\n",
       "    </tr>\n",
       "    <tr>\n",
       "      <th>11</th>\n",
       "      <td>00021ddc3.jpg</td>\n",
       "      <td>74441 3 75207 5 75975 5 76743 5 77511 5 78280 ...</td>\n",
       "    </tr>\n",
       "    <tr>\n",
       "      <th>12</th>\n",
       "      <td>00021ddc3.jpg</td>\n",
       "      <td>74444 4 75212 4 75980 4 76748 4 77517 3 78285 ...</td>\n",
       "    </tr>\n",
       "    <tr>\n",
       "      <th>13</th>\n",
       "      <td>00021ddc3.jpg</td>\n",
       "      <td>150423 2 151190 3 151958 3 152726 4 153495 3 1...</td>\n",
       "    </tr>\n",
       "    <tr>\n",
       "      <th>14</th>\n",
       "      <td>00021ddc3.jpg</td>\n",
       "      <td>139644 2 140408 6 141174 9 141942 9 142711 6 1...</td>\n",
       "    </tr>\n",
       "    <tr>\n",
       "      <th>15</th>\n",
       "      <td>00021ddc3.jpg</td>\n",
       "      <td>75972 3 76738 5 77506 5 78274 5 79042 6 79811 ...</td>\n",
       "    </tr>\n",
       "    <tr>\n",
       "      <th>16</th>\n",
       "      <td>00021ddc3.jpg</td>\n",
       "      <td>86727 2 87493 4 88261 4 89030 3 89798 4 90566 ...</td>\n",
       "    </tr>\n",
       "    <tr>\n",
       "      <th>17</th>\n",
       "      <td>00021ddc3.jpg</td>\n",
       "      <td>95225 2 95992 5 96760 7 97527 9 98294 9 99062 ...</td>\n",
       "    </tr>\n",
       "    <tr>\n",
       "      <th>18</th>\n",
       "      <td>0002756f7.jpg</td>\n",
       "      <td>255784 2 256552 4 257319 7 258087 9 258854 12 ...</td>\n",
       "    </tr>\n",
       "    <tr>\n",
       "      <th>19</th>\n",
       "      <td>0002756f7.jpg</td>\n",
       "      <td>248878 1 249645 4 250413 6 251180 9 251948 10 ...</td>\n",
       "    </tr>\n",
       "    <tr>\n",
       "      <th>20</th>\n",
       "      <td>0002d0f32.jpg</td>\n",
       "      <td>NaN</td>\n",
       "    </tr>\n",
       "    <tr>\n",
       "      <th>21</th>\n",
       "      <td>000303d4d.jpg</td>\n",
       "      <td>NaN</td>\n",
       "    </tr>\n",
       "    <tr>\n",
       "      <th>22</th>\n",
       "      <td>00031f145.jpg</td>\n",
       "      <td>340363 1 341129 4 341896 6 342663 7 343429 10 ...</td>\n",
       "    </tr>\n",
       "    <tr>\n",
       "      <th>23</th>\n",
       "      <td>00052ed46.jpg</td>\n",
       "      <td>NaN</td>\n",
       "    </tr>\n",
       "    <tr>\n",
       "      <th>24</th>\n",
       "      <td>000532683.jpg</td>\n",
       "      <td>458957 14 459725 14 460493 14 461261 14 462029...</td>\n",
       "    </tr>\n",
       "    <tr>\n",
       "      <th>25</th>\n",
       "      <td>000532683.jpg</td>\n",
       "      <td>567543 2 568309 4 569077 5 569846 4 570614 5 5...</td>\n",
       "    </tr>\n",
       "    <tr>\n",
       "      <th>26</th>\n",
       "      <td>00053c6ba.jpg</td>\n",
       "      <td>565382 3 566144 9 566909 12 567677 13 568445 1...</td>\n",
       "    </tr>\n",
       "    <tr>\n",
       "      <th>27</th>\n",
       "      <td>00057a50d.jpg</td>\n",
       "      <td>NaN</td>\n",
       "    </tr>\n",
       "    <tr>\n",
       "      <th>28</th>\n",
       "      <td>000592296.jpg</td>\n",
       "      <td>NaN</td>\n",
       "    </tr>\n",
       "    <tr>\n",
       "      <th>29</th>\n",
       "      <td>0005d01c8.jpg</td>\n",
       "      <td>56010 1 56777 3 57544 6 58312 7 59079 9 59846 ...</td>\n",
       "    </tr>\n",
       "    <tr>\n",
       "      <th>...</th>\n",
       "      <td>...</td>\n",
       "      <td>...</td>\n",
       "    </tr>\n",
       "    <tr>\n",
       "      <th>70</th>\n",
       "      <td>00122061c.jpg</td>\n",
       "      <td>NaN</td>\n",
       "    </tr>\n",
       "    <tr>\n",
       "      <th>71</th>\n",
       "      <td>001234638.jpg</td>\n",
       "      <td>131064 1 131831 3 132599 5 133366 7 134133 9 1...</td>\n",
       "    </tr>\n",
       "    <tr>\n",
       "      <th>72</th>\n",
       "      <td>0012669a8.jpg</td>\n",
       "      <td>NaN</td>\n",
       "    </tr>\n",
       "    <tr>\n",
       "      <th>73</th>\n",
       "      <td>0012a8fa1.jpg</td>\n",
       "      <td>NaN</td>\n",
       "    </tr>\n",
       "    <tr>\n",
       "      <th>74</th>\n",
       "      <td>0012b8981.jpg</td>\n",
       "      <td>NaN</td>\n",
       "    </tr>\n",
       "    <tr>\n",
       "      <th>75</th>\n",
       "      <td>0012be3bb.jpg</td>\n",
       "      <td>NaN</td>\n",
       "    </tr>\n",
       "    <tr>\n",
       "      <th>76</th>\n",
       "      <td>0013b2222.jpg</td>\n",
       "      <td>NaN</td>\n",
       "    </tr>\n",
       "    <tr>\n",
       "      <th>77</th>\n",
       "      <td>00140e597.jpg</td>\n",
       "      <td>NaN</td>\n",
       "    </tr>\n",
       "    <tr>\n",
       "      <th>78</th>\n",
       "      <td>0014b1235.jpg</td>\n",
       "      <td>NaN</td>\n",
       "    </tr>\n",
       "    <tr>\n",
       "      <th>79</th>\n",
       "      <td>001566f7c.jpg</td>\n",
       "      <td>70386 1 71152 4 71918 6 72685 8 73451 10 74218...</td>\n",
       "    </tr>\n",
       "    <tr>\n",
       "      <th>80</th>\n",
       "      <td>0015a4f8b.jpg</td>\n",
       "      <td>NaN</td>\n",
       "    </tr>\n",
       "    <tr>\n",
       "      <th>81</th>\n",
       "      <td>00160335a.jpg</td>\n",
       "      <td>NaN</td>\n",
       "    </tr>\n",
       "    <tr>\n",
       "      <th>82</th>\n",
       "      <td>00167446e.jpg</td>\n",
       "      <td>NaN</td>\n",
       "    </tr>\n",
       "    <tr>\n",
       "      <th>83</th>\n",
       "      <td>0016a2ab9.jpg</td>\n",
       "      <td>NaN</td>\n",
       "    </tr>\n",
       "    <tr>\n",
       "      <th>84</th>\n",
       "      <td>0016ae695.jpg</td>\n",
       "      <td>NaN</td>\n",
       "    </tr>\n",
       "    <tr>\n",
       "      <th>85</th>\n",
       "      <td>0016bc1a8.jpg</td>\n",
       "      <td>NaN</td>\n",
       "    </tr>\n",
       "    <tr>\n",
       "      <th>86</th>\n",
       "      <td>0016c1d02.jpg</td>\n",
       "      <td>NaN</td>\n",
       "    </tr>\n",
       "    <tr>\n",
       "      <th>87</th>\n",
       "      <td>001739657.jpg</td>\n",
       "      <td>NaN</td>\n",
       "    </tr>\n",
       "    <tr>\n",
       "      <th>88</th>\n",
       "      <td>001768e84.jpg</td>\n",
       "      <td>NaN</td>\n",
       "    </tr>\n",
       "    <tr>\n",
       "      <th>89</th>\n",
       "      <td>0017c19d6.jpg</td>\n",
       "      <td>329228 1 329995 3 330762 4 331529 6 332296 8 3...</td>\n",
       "    </tr>\n",
       "    <tr>\n",
       "      <th>90</th>\n",
       "      <td>0017c19d6.jpg</td>\n",
       "      <td>405963 1 406730 3 407497 5 408264 7 409031 10 ...</td>\n",
       "    </tr>\n",
       "    <tr>\n",
       "      <th>91</th>\n",
       "      <td>001883b1b.jpg</td>\n",
       "      <td>NaN</td>\n",
       "    </tr>\n",
       "    <tr>\n",
       "      <th>92</th>\n",
       "      <td>00189cc36.jpg</td>\n",
       "      <td>NaN</td>\n",
       "    </tr>\n",
       "    <tr>\n",
       "      <th>93</th>\n",
       "      <td>0018e5d6c.jpg</td>\n",
       "      <td>55444 8 56212 22 56980 36 57748 50 58516 58 59...</td>\n",
       "    </tr>\n",
       "    <tr>\n",
       "      <th>94</th>\n",
       "      <td>0018f7728.jpg</td>\n",
       "      <td>NaN</td>\n",
       "    </tr>\n",
       "    <tr>\n",
       "      <th>95</th>\n",
       "      <td>0019444bc.jpg</td>\n",
       "      <td>NaN</td>\n",
       "    </tr>\n",
       "    <tr>\n",
       "      <th>96</th>\n",
       "      <td>001948368.jpg</td>\n",
       "      <td>NaN</td>\n",
       "    </tr>\n",
       "    <tr>\n",
       "      <th>97</th>\n",
       "      <td>00196e715.jpg</td>\n",
       "      <td>NaN</td>\n",
       "    </tr>\n",
       "    <tr>\n",
       "      <th>98</th>\n",
       "      <td>0019880c1.jpg</td>\n",
       "      <td>NaN</td>\n",
       "    </tr>\n",
       "    <tr>\n",
       "      <th>99</th>\n",
       "      <td>0019fc4d8.jpg</td>\n",
       "      <td>366469 2 367234 5 367999 9 368763 13 369528 16...</td>\n",
       "    </tr>\n",
       "  </tbody>\n",
       "</table>\n",
       "<p>100 rows × 2 columns</p>\n",
       "</div>"
      ],
      "text/plain": [
       "          ImageId                                      EncodedPixels\n",
       "0   00003e153.jpg                                                NaN\n",
       "1   0001124c7.jpg                                                NaN\n",
       "2   000155de5.jpg  264661 17 265429 33 266197 33 266965 33 267733...\n",
       "3   000194a2d.jpg  360486 1 361252 4 362019 5 362785 8 363552 10 ...\n",
       "4   000194a2d.jpg  51834 9 52602 9 53370 9 54138 9 54906 9 55674 ...\n",
       "5   000194a2d.jpg  198320 10 199088 10 199856 10 200624 10 201392...\n",
       "6   000194a2d.jpg  55683 1 56451 1 57219 1 57987 1 58755 1 59523 ...\n",
       "7   000194a2d.jpg  254389 9 255157 17 255925 17 256693 17 257461 ...\n",
       "8   0001b1832.jpg                                                NaN\n",
       "9   00021ddc3.jpg  108287 1 109054 3 109821 4 110588 5 111356 5 1...\n",
       "10  00021ddc3.jpg  101361 1 102128 3 102896 4 103663 6 104430 9 1...\n",
       "11  00021ddc3.jpg  74441 3 75207 5 75975 5 76743 5 77511 5 78280 ...\n",
       "12  00021ddc3.jpg  74444 4 75212 4 75980 4 76748 4 77517 3 78285 ...\n",
       "13  00021ddc3.jpg  150423 2 151190 3 151958 3 152726 4 153495 3 1...\n",
       "14  00021ddc3.jpg  139644 2 140408 6 141174 9 141942 9 142711 6 1...\n",
       "15  00021ddc3.jpg  75972 3 76738 5 77506 5 78274 5 79042 6 79811 ...\n",
       "16  00021ddc3.jpg  86727 2 87493 4 88261 4 89030 3 89798 4 90566 ...\n",
       "17  00021ddc3.jpg  95225 2 95992 5 96760 7 97527 9 98294 9 99062 ...\n",
       "18  0002756f7.jpg  255784 2 256552 4 257319 7 258087 9 258854 12 ...\n",
       "19  0002756f7.jpg  248878 1 249645 4 250413 6 251180 9 251948 10 ...\n",
       "20  0002d0f32.jpg                                                NaN\n",
       "21  000303d4d.jpg                                                NaN\n",
       "22  00031f145.jpg  340363 1 341129 4 341896 6 342663 7 343429 10 ...\n",
       "23  00052ed46.jpg                                                NaN\n",
       "24  000532683.jpg  458957 14 459725 14 460493 14 461261 14 462029...\n",
       "25  000532683.jpg  567543 2 568309 4 569077 5 569846 4 570614 5 5...\n",
       "26  00053c6ba.jpg  565382 3 566144 9 566909 12 567677 13 568445 1...\n",
       "27  00057a50d.jpg                                                NaN\n",
       "28  000592296.jpg                                                NaN\n",
       "29  0005d01c8.jpg  56010 1 56777 3 57544 6 58312 7 59079 9 59846 ...\n",
       "..            ...                                                ...\n",
       "70  00122061c.jpg                                                NaN\n",
       "71  001234638.jpg  131064 1 131831 3 132599 5 133366 7 134133 9 1...\n",
       "72  0012669a8.jpg                                                NaN\n",
       "73  0012a8fa1.jpg                                                NaN\n",
       "74  0012b8981.jpg                                                NaN\n",
       "75  0012be3bb.jpg                                                NaN\n",
       "76  0013b2222.jpg                                                NaN\n",
       "77  00140e597.jpg                                                NaN\n",
       "78  0014b1235.jpg                                                NaN\n",
       "79  001566f7c.jpg  70386 1 71152 4 71918 6 72685 8 73451 10 74218...\n",
       "80  0015a4f8b.jpg                                                NaN\n",
       "81  00160335a.jpg                                                NaN\n",
       "82  00167446e.jpg                                                NaN\n",
       "83  0016a2ab9.jpg                                                NaN\n",
       "84  0016ae695.jpg                                                NaN\n",
       "85  0016bc1a8.jpg                                                NaN\n",
       "86  0016c1d02.jpg                                                NaN\n",
       "87  001739657.jpg                                                NaN\n",
       "88  001768e84.jpg                                                NaN\n",
       "89  0017c19d6.jpg  329228 1 329995 3 330762 4 331529 6 332296 8 3...\n",
       "90  0017c19d6.jpg  405963 1 406730 3 407497 5 408264 7 409031 10 ...\n",
       "91  001883b1b.jpg                                                NaN\n",
       "92  00189cc36.jpg                                                NaN\n",
       "93  0018e5d6c.jpg  55444 8 56212 22 56980 36 57748 50 58516 58 59...\n",
       "94  0018f7728.jpg                                                NaN\n",
       "95  0019444bc.jpg                                                NaN\n",
       "96  001948368.jpg                                                NaN\n",
       "97  00196e715.jpg                                                NaN\n",
       "98  0019880c1.jpg                                                NaN\n",
       "99  0019fc4d8.jpg  366469 2 367234 5 367999 9 368763 13 369528 16...\n",
       "\n",
       "[100 rows x 2 columns]"
      ]
     },
     "execution_count": 86,
     "metadata": {},
     "output_type": "execute_result"
    }
   ],
   "source": [
    "import pandas as pd # data processing, CSV file I/O (e.g. pd.read_csv)\n",
    "import numpy as np\n",
    "masks = pd.read_csv('/Users/wsm/Desktop/train_ship_segmentations_v2.csv')\n",
    "masks.head(100)"
   ]
  },
  {
   "cell_type": "code",
   "execution_count": 84,
   "metadata": {},
   "outputs": [],
   "source": [
    "null_masks = masks['EncodedPixels'].isnull()\n",
    "selected = masks['ImageId'][null_masks].tolist()\n",
    "empty_ships = set()\n",
    "for s in selected:\n",
    "    empty_ships.add(s)"
   ]
  },
  {
   "cell_type": "code",
   "execution_count": 85,
   "metadata": {},
   "outputs": [
    {
     "data": {
      "text/plain": [
       "150000"
      ]
     },
     "execution_count": 85,
     "metadata": {},
     "output_type": "execute_result"
    }
   ],
   "source": [
    "len(empty_ships)"
   ]
  },
  {
   "cell_type": "code",
   "execution_count": 20,
   "metadata": {},
   "outputs": [],
   "source": [
    "def rle_decode(mask_rle, shape=(768, 768)):\n",
    "    '''\n",
    "    mask_rle: run-length as string formated (start length)\n",
    "    shape: (height,width) of array to return \n",
    "    Returns numpy array, 1 - mask, 0 - background\n",
    "\n",
    "    '''\n",
    "    s = mask_rle.split()\n",
    "    starts, lengths = [np.asarray(x, dtype=int) for x in (s[0:][::2], s[1:][::2])]\n",
    "    starts -= 1\n",
    "    ends = starts + lengths\n",
    "    img = np.zeros(shape[0]*shape[1], dtype=np.uint8)\n",
    "    for lo, hi in zip(starts, ends):\n",
    "        img[lo:hi] = 1\n",
    "    return img.reshape(shape).T  # Needed to align to RLE direction"
   ]
  },
  {
   "cell_type": "code",
   "execution_count": 21,
   "metadata": {},
   "outputs": [],
   "source": [
    "mask1 = masks.loc[masks['ImageId'] == '000194a2d.jpg', 'EncodedPixels']\n"
   ]
  },
  {
   "cell_type": "code",
   "execution_count": 22,
   "metadata": {},
   "outputs": [],
   "source": [
    "mask1 = mask1.tolist()"
   ]
  },
  {
   "cell_type": "code",
   "execution_count": 24,
   "metadata": {},
   "outputs": [],
   "source": [
    "all_masks1 = np.zeros((768, 768))\n",
    "for m in mask1:\n",
    "    all_masks1 += rle_decode(m)"
   ]
  },
  {
   "cell_type": "code",
   "execution_count": 26,
   "metadata": {},
   "outputs": [],
   "source": [
    "import matplotlib.pyplot as plt"
   ]
  },
  {
   "cell_type": "code",
   "execution_count": 27,
   "metadata": {},
   "outputs": [
    {
     "data": {
      "image/png": "[encoded data removed]",
      "text/plain": [
       "<matplotlib.figure.Figure at 0x11c799b00>"
      ]
     },
     "metadata": {},
     "output_type": "display_data"
    }
   ],
   "source": [
    "plt.imshow(all_masks1)\n",
    "plt.show()"
   ]
  },
  {
   "cell_type": "code",
   "execution_count": 40,
   "metadata": {},
   "outputs": [],
   "source": [
    "masks.dropna(inplace=True)\n"
   ]
  },
  {
   "cell_type": "code",
   "execution_count": 56,
   "metadata": {},
   "outputs": [],
   "source": [
    "all_res = []\n",
    "def agg(df):\n",
    "    ms = df['EncodedPixels'].tolist()\n",
    "    all_masks1 = np.zeros((768, 768))\n",
    "    for m in ms:\n",
    "        all_masks1 += rle_decode(m)\n",
    "    all_res.append(all_masks1)\n",
    "    return 0\n",
    "masks_special = masks.loc[masks['ImageId'] == '000194a2d.jpg']\n"
   ]
  },
  {
   "cell_type": "code",
   "execution_count": 57,
   "metadata": {},
   "outputs": [
    {
     "data": {
      "text/html": [
       "<div>\n",
       "<style>\n",
       "    .dataframe thead tr:only-child th {\n",
       "        text-align: right;\n",
       "    }\n",
       "\n",
       "    .dataframe thead th {\n",
       "        text-align: left;\n",
       "    }\n",
       "\n",
       "    .dataframe tbody tr th {\n",
       "        vertical-align: top;\n",
       "    }\n",
       "</style>\n",
       "<table border=\"1\" class=\"dataframe\">\n",
       "  <thead>\n",
       "    <tr style=\"text-align: right;\">\n",
       "      <th></th>\n",
       "      <th>ImageId</th>\n",
       "      <th>EncodedPixels</th>\n",
       "    </tr>\n",
       "  </thead>\n",
       "  <tbody>\n",
       "    <tr>\n",
       "      <th>3</th>\n",
       "      <td>000194a2d.jpg</td>\n",
       "      <td>360486 1 361252 4 362019 5 362785 8 363552 10 ...</td>\n",
       "    </tr>\n",
       "    <tr>\n",
       "      <th>4</th>\n",
       "      <td>000194a2d.jpg</td>\n",
       "      <td>51834 9 52602 9 53370 9 54138 9 54906 9 55674 ...</td>\n",
       "    </tr>\n",
       "    <tr>\n",
       "      <th>5</th>\n",
       "      <td>000194a2d.jpg</td>\n",
       "      <td>198320 10 199088 10 199856 10 200624 10 201392...</td>\n",
       "    </tr>\n",
       "    <tr>\n",
       "      <th>6</th>\n",
       "      <td>000194a2d.jpg</td>\n",
       "      <td>55683 1 56451 1 57219 1 57987 1 58755 1 59523 ...</td>\n",
       "    </tr>\n",
       "    <tr>\n",
       "      <th>7</th>\n",
       "      <td>000194a2d.jpg</td>\n",
       "      <td>254389 9 255157 17 255925 17 256693 17 257461 ...</td>\n",
       "    </tr>\n",
       "  </tbody>\n",
       "</table>\n",
       "</div>"
      ],
      "text/plain": [
       "         ImageId                                      EncodedPixels\n",
       "3  000194a2d.jpg  360486 1 361252 4 362019 5 362785 8 363552 10 ...\n",
       "4  000194a2d.jpg  51834 9 52602 9 53370 9 54138 9 54906 9 55674 ...\n",
       "5  000194a2d.jpg  198320 10 199088 10 199856 10 200624 10 201392...\n",
       "6  000194a2d.jpg  55683 1 56451 1 57219 1 57987 1 58755 1 59523 ...\n",
       "7  000194a2d.jpg  254389 9 255157 17 255925 17 256693 17 257461 ..."
      ]
     },
     "execution_count": 57,
     "metadata": {},
     "output_type": "execute_result"
    }
   ],
   "source": [
    "masks_special"
   ]
  },
  {
   "cell_type": "code",
   "execution_count": 66,
   "metadata": {},
   "outputs": [],
   "source": [
    "import os\n",
    "# res = masks.groupby('ImageId').aggregate(agg)\n",
    "class MaskLoader:\n",
    "    def __init__(self, data_root):\n",
    "         # load rle file from csv\n",
    "        self.masks_rle = pd.read_csv(os.path.join(data_root, 'train_ship_segmentations_v2.csv'))\n",
    "        # drop the na\n",
    "        self.masks_rle.dropna(inplace=True)\n",
    "\n",
    "    def __getitem__(self, imageId):\n",
    "        return self._get_mask_from_rle(imageId)\n",
    "\n",
    "    # TODO peformance benchmarking this shit \n",
    "    def _get_mask_from_rle(self, imageId):\n",
    "        mask = self.masks_rle.loc[masks['ImageId'] == imageId, 'EncodedPixels'].tolist()\n",
    "        if len(mask) == 0:\n",
    "            return None\n",
    "        res = np.zeros((768, 768))\n",
    "        for m in mask:\n",
    "            res += rle_decode(m)\n",
    "        return res"
   ]
  },
  {
   "cell_type": "code",
   "execution_count": 67,
   "metadata": {},
   "outputs": [],
   "source": [
    "a = MaskLoader('/Users/wsm/Desktop/')"
   ]
  },
  {
   "cell_type": "code",
   "execution_count": 68,
   "metadata": {},
   "outputs": [
    {
     "data": {
      "text/plain": [
       "array([[0., 0., 0., ..., 0., 0., 0.],\n",
       "       [0., 0., 0., ..., 0., 0., 0.],\n",
       "       [0., 0., 0., ..., 0., 0., 0.],\n",
       "       ...,\n",
       "       [0., 0., 0., ..., 0., 0., 0.],\n",
       "       [0., 0., 0., ..., 0., 0., 0.],\n",
       "       [0., 0., 0., ..., 0., 0., 0.]])"
      ]
     },
     "execution_count": 68,
     "metadata": {},
     "output_type": "execute_result"
    }
   ],
   "source": [
    "a['000194a2d.jpg']"
   ]
  },
  {
   "cell_type": "code",
   "execution_count": 87,
   "metadata": {},
   "outputs": [],
   "source": [
    "import logging"
   ]
  },
  {
   "cell_type": "code",
   "execution_count": 88,
   "metadata": {},
   "outputs": [
    {
     "name": "stderr",
     "output_type": "stream",
     "text": [
      "WARNING:root:shit\n"
     ]
    }
   ],
   "source": [
    "logging.warning('shit')"
   ]
  },
  {
   "cell_type": "code",
   "execution_count": 90,
   "metadata": {},
   "outputs": [],
   "source": [
    "a = [1,1,1,1]"
   ]
  },
  {
   "cell_type": "code",
   "execution_count": 95,
   "metadata": {},
   "outputs": [],
   "source": [
    "b = [10 for i in a if i > 10]"
   ]
  },
  {
   "cell_type": "code",
   "execution_count": 96,
   "metadata": {},
   "outputs": [
    {
     "data": {
      "text/plain": [
       "[]"
      ]
     },
     "execution_count": 96,
     "metadata": {},
     "output_type": "execute_result"
    }
   ],
   "source": [
    "b"
   ]
  },
  {
   "cell_type": "code",
   "execution_count": 97,
   "metadata": {},
   "outputs": [
    {
     "data": {
      "text/plain": [
       "'sdfsdf shit'"
      ]
     },
     "execution_count": 97,
     "metadata": {},
     "output_type": "execute_result"
    }
   ],
   "source": [
    "\"sdfsdf {}\".format('shit')"
   ]
  },
  {
   "cell_type": "code",
   "execution_count": 99,
   "metadata": {},
   "outputs": [
    {
     "name": "stdout",
     "output_type": "stream",
     "text": [
      "sdfsdfsdfsdfsfsdfsfd\n"
     ]
    }
   ],
   "source": [
    "print('sdfsdf'\n",
    "            'sdfsdfsf'\n",
    "            'sdfsfd')"
   ]
  },
  {
   "cell_type": "code",
   "execution_count": null,
   "metadata": {},
   "outputs": [],
   "source": []
  }
 ],
 "metadata": {
  "kernelspec": {
   "display_name": "Python 3",
   "language": "python",
   "name": "python3"
  },
  "language_info": {
   "codemirror_mode": {
    "name": "ipython",
    "version": 3
   },
   "file_extension": ".py",
   "mimetype": "text/x-python",
   "name": "python",
   "nbconvert_exporter": "python",
   "pygments_lexer": "ipython3",
   "version": "3.6.3"
  }
 },
 "nbformat": 4,
 "nbformat_minor": 2
}
