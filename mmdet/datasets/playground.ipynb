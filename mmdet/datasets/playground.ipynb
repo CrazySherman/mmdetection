{
 "cells": [
  {
   "cell_type": "code",
   "execution_count": 2,
   "metadata": {},
   "outputs": [
    {
     "data": {
      "text/html": [
       "<div>\n",
       "<style scoped>\n",
       "    .dataframe tbody tr th:only-of-type {\n",
       "        vertical-align: middle;\n",
       "    }\n",
       "\n",
       "    .dataframe tbody tr th {\n",
       "        vertical-align: top;\n",
       "    }\n",
       "\n",
       "    .dataframe thead th {\n",
       "        text-align: right;\n",
       "    }\n",
       "</style>\n",
       "<table border=\"1\" class=\"dataframe\">\n",
       "  <thead>\n",
       "    <tr style=\"text-align: right;\">\n",
       "      <th></th>\n",
       "      <th>ImageId</th>\n",
       "      <th>EncodedPixels</th>\n",
       "    </tr>\n",
       "  </thead>\n",
       "  <tbody>\n",
       "    <tr>\n",
       "      <th>0</th>\n",
       "      <td>00003e153.jpg</td>\n",
       "      <td>NaN</td>\n",
       "    </tr>\n",
       "    <tr>\n",
       "      <th>1</th>\n",
       "      <td>0001124c7.jpg</td>\n",
       "      <td>NaN</td>\n",
       "    </tr>\n",
       "    <tr>\n",
       "      <th>2</th>\n",
       "      <td>000155de5.jpg</td>\n",
       "      <td>264661 17 265429 33 266197 33 266965 33 267733...</td>\n",
       "    </tr>\n",
       "    <tr>\n",
       "      <th>3</th>\n",
       "      <td>000194a2d.jpg</td>\n",
       "      <td>360486 1 361252 4 362019 5 362785 8 363552 10 ...</td>\n",
       "    </tr>\n",
       "    <tr>\n",
       "      <th>4</th>\n",
       "      <td>000194a2d.jpg</td>\n",
       "      <td>51834 9 52602 9 53370 9 54138 9 54906 9 55674 ...</td>\n",
       "    </tr>\n",
       "    <tr>\n",
       "      <th>5</th>\n",
       "      <td>000194a2d.jpg</td>\n",
       "      <td>198320 10 199088 10 199856 10 200624 10 201392...</td>\n",
       "    </tr>\n",
       "    <tr>\n",
       "      <th>6</th>\n",
       "      <td>000194a2d.jpg</td>\n",
       "      <td>55683 1 56451 1 57219 1 57987 1 58755 1 59523 ...</td>\n",
       "    </tr>\n",
       "    <tr>\n",
       "      <th>7</th>\n",
       "      <td>000194a2d.jpg</td>\n",
       "      <td>254389 9 255157 17 255925 17 256693 17 257461 ...</td>\n",
       "    </tr>\n",
       "    <tr>\n",
       "      <th>8</th>\n",
       "      <td>0001b1832.jpg</td>\n",
       "      <td>NaN</td>\n",
       "    </tr>\n",
       "    <tr>\n",
       "      <th>9</th>\n",
       "      <td>00021ddc3.jpg</td>\n",
       "      <td>108287 1 109054 3 109821 4 110588 5 111356 5 1...</td>\n",
       "    </tr>\n",
       "  </tbody>\n",
       "</table>\n",
       "</div>"
      ],
      "text/plain": [
       "         ImageId                                      EncodedPixels\n",
       "0  00003e153.jpg                                                NaN\n",
       "1  0001124c7.jpg                                                NaN\n",
       "2  000155de5.jpg  264661 17 265429 33 266197 33 266965 33 267733...\n",
       "3  000194a2d.jpg  360486 1 361252 4 362019 5 362785 8 363552 10 ...\n",
       "4  000194a2d.jpg  51834 9 52602 9 53370 9 54138 9 54906 9 55674 ...\n",
       "5  000194a2d.jpg  198320 10 199088 10 199856 10 200624 10 201392...\n",
       "6  000194a2d.jpg  55683 1 56451 1 57219 1 57987 1 58755 1 59523 ...\n",
       "7  000194a2d.jpg  254389 9 255157 17 255925 17 256693 17 257461 ...\n",
       "8  0001b1832.jpg                                                NaN\n",
       "9  00021ddc3.jpg  108287 1 109054 3 109821 4 110588 5 111356 5 1..."
      ]
     },
     "execution_count": 2,
     "metadata": {},
     "output_type": "execute_result"
    }
   ],
   "source": [
    "import pandas as pd # data processing, CSV file I/O (e.g. pd.read_csv)\n",
    "import numpy as np\n",
    "masks = pd.read_csv('/Users/shengmiw/Downloads/train_ship_segmentations_v2.csv')\n",
    "masks.head(10)"
   ]
  },
  {
   "cell_type": "code",
   "execution_count": 3,
   "metadata": {},
   "outputs": [],
   "source": [
    "null_masks = masks['EncodedPixels'].isnull()\n",
    "selected = masks['ImageId'][null_masks].tolist()\n",
    "empty_ships = set()\n",
    "for s in selected:\n",
    "    empty_ships.add(s)"
   ]
  },
  {
   "cell_type": "code",
   "execution_count": 4,
   "metadata": {},
   "outputs": [
    {
     "data": {
      "text/plain": [
       "150000"
      ]
     },
     "execution_count": 4,
     "metadata": {},
     "output_type": "execute_result"
    }
   ],
   "source": [
    "len(empty_ships)"
   ]
  },
  {
   "cell_type": "code",
   "execution_count": 5,
   "metadata": {},
   "outputs": [],
   "source": [
    "def rle_decode(mask_rle, shape=(768, 768)):\n",
    "    '''\n",
    "    mask_rle: run-length as string formated (start length)\n",
    "    shape: (height,width) of array to return \n",
    "    Returns numpy array, 1 - mask, 0 - background\n",
    "\n",
    "    '''\n",
    "    s = mask_rle.split()\n",
    "    starts, lengths = [np.asarray(x, dtype=int) for x in (s[0:][::2], s[1:][::2])]\n",
    "    starts -= 1\n",
    "    ends = starts + lengths\n",
    "    img = np.zeros(shape[0]*shape[1], dtype=np.uint8)\n",
    "    for lo, hi in zip(starts, ends):\n",
    "        img[lo:hi] = 1\n",
    "    return img.reshape(shape).T  # Needed to align to RLE direction"
   ]
  },
  {
   "cell_type": "code",
   "execution_count": 32,
   "metadata": {},
   "outputs": [],
   "source": [
    "mask1 = masks.loc[masks['ImageId'] == '000194a2d.jpg', 'EncodedPixels']\n"
   ]
  },
  {
   "cell_type": "code",
   "execution_count": 33,
   "metadata": {},
   "outputs": [],
   "source": [
    "mask1 = mask1.tolist()"
   ]
  },
  {
   "cell_type": "code",
   "execution_count": 34,
   "metadata": {},
   "outputs": [],
   "source": [
    "all_masks1 = np.zeros((768, 768))\n",
    "for m in mask1:\n",
    "    all_masks1 += rle_decode(m)"
   ]
  },
  {
   "cell_type": "code",
   "execution_count": 35,
   "metadata": {},
   "outputs": [],
   "source": [
    "import matplotlib.pyplot as plt"
   ]
  },
  {
   "cell_type": "code",
   "execution_count": 36,
   "metadata": {},
   "outputs": [
    {
     "data": {
      "image/png": "[encoded data removed]",
      "text/plain": [
       "<Figure size 432x288 with 1 Axes>"
      ]
     },
     "metadata": {},
     "output_type": "display_data"
    }
   ],
   "source": [
    "plt.imshow(all_masks1)\n",
    "plt.show()"
   ]
  },
  {
   "cell_type": "code",
   "execution_count": 40,
   "metadata": {},
   "outputs": [],
   "source": [
    "# implementation of box generation algorithm\n",
    "# search\n",
    "\n",
    "def box_genV1(grid):\n",
    "    \"\"\"\n",
    "        input: grid - ndarray of mask shape: N * M\n",
    "        outupt: boxes array of cors\n",
    "    \"\"\"\n",
    "    grid = grid.astype(np.int)\n",
    "    min_area = 10\n",
    "    N,M = grid.shape\n",
    "    mask = np.zeros((N,M), np.int)\n",
    "    bboxes = []\n",
    "    cur_max = 0\n",
    "    for i in range(N):\n",
    "        for j in range(M):\n",
    "            if not grid[i,j]:\n",
    "                continue\n",
    "            elif mask[i,j]:\n",
    "                continue\n",
    "            else:\n",
    "                if i - 1 >= 0 and grid[i - 1, j]:\n",
    "                    mask[i,j] = mask[i - 1, j]\n",
    "                elif j - 1 >= 0 and grid[i, j - 1]:\n",
    "                    mask[i,j] = mask[i, j - 1]\n",
    "                else:\n",
    "                    # in this case, it's a new area\n",
    "                    mask[i,j] = cur_max + 1\n",
    "                    cur_max += 1\n",
    "                    \n",
    "    n_boxes = cur_max\n",
    "    for i in range(n_boxes):\n",
    "        idx, idy = np.where(mask == i+1)\n",
    "        xmin, xmax, ymin, ymax = idx.min(), idx.max(), idy.min(), idy.max()\n",
    "        print('the area is: ', (xmax - xmin) * (ymax - ymin))\n",
    "        if (xmax - xmin) * (ymax - ymin) > min_area:\n",
    "            bboxes.append((xmin, xmax, ymin, ymax))\n",
    "        \n",
    "    return bboxes\n"
   ]
  },
  {
   "cell_type": "code",
   "execution_count": 56,
   "metadata": {},
   "outputs": [],
   "source": [
    "from skimage.measure import label, regionprops\n",
    "def box_genV2(grid):\n",
    "    lbl = label(grid) \n",
    "    props = regionprops(lbl)\n",
    "    return np.asarray([prop.bbox for prop in props])"
   ]
  },
  {
   "cell_type": "code",
   "execution_count": 57,
   "metadata": {},
   "outputs": [],
   "source": [
    "grid = all_masks1\n",
    "res = box_genV2(grid)\n",
    "# grid.sum()"
   ]
  },
  {
   "cell_type": "code",
   "execution_count": 62,
   "metadata": {},
   "outputs": [
    {
     "name": "stdout",
     "output_type": "stream",
     "text": [
      "Help on function regionprops in module skimage.measure._regionprops:\n",
      "\n",
      "regionprops(label_image, intensity_image=None, cache=True, coordinates=None)\n",
      "    Measure properties of labeled image regions.\n",
      "    \n",
      "    Parameters\n",
      "    ----------\n",
      "    label_image : (N, M) ndarray\n",
      "        Labeled input image. Labels with value 0 are ignored.\n",
      "    intensity_image : (N, M) ndarray, optional\n",
      "        Intensity (i.e., input) image with same size as labeled image.\n",
      "        Default is None.\n",
      "    cache : bool, optional\n",
      "        Determine whether to cache calculated properties. The computation is\n",
      "        much faster for cached properties, whereas the memory consumption\n",
      "        increases.\n",
      "    coordinates : 'rc' or 'xy', optional\n",
      "        Coordinate conventions for 2D images. (Only 'rc' coordinates are\n",
      "        supported for 3D images.)\n",
      "    \n",
      "    Returns\n",
      "    -------\n",
      "    properties : list of RegionProperties\n",
      "        Each item describes one labeled region, and can be accessed using the\n",
      "        attributes listed below.\n",
      "    \n",
      "    Notes\n",
      "    -----\n",
      "    The following properties can be accessed as attributes or keys:\n",
      "    \n",
      "    **area** : int\n",
      "        Number of pixels of region.\n",
      "    **bbox** : tuple\n",
      "        Bounding box ``(min_row, min_col, max_row, max_col)``.\n",
      "        Pixels belonging to the bounding box are in the half-open interval\n",
      "        ``[min_row; max_row)`` and ``[min_col; max_col)``.\n",
      "    **bbox_area** : int\n",
      "        Number of pixels of bounding box.\n",
      "    **centroid** : array\n",
      "        Centroid coordinate tuple ``(row, col)``.\n",
      "    **convex_area** : int\n",
      "        Number of pixels of convex hull image.\n",
      "    **convex_image** : (H, J) ndarray\n",
      "        Binary convex hull image which has the same size as bounding box.\n",
      "    **coords** : (N, 2) ndarray\n",
      "        Coordinate list ``(row, col)`` of the region.\n",
      "    **eccentricity** : float\n",
      "        Eccentricity of the ellipse that has the same second-moments as the\n",
      "        region. The eccentricity is the ratio of the focal distance\n",
      "        (distance between focal points) over the major axis length.\n",
      "        The value is in the interval [0, 1).\n",
      "        When it is 0, the ellipse becomes a circle.\n",
      "    **equivalent_diameter** : float\n",
      "        The diameter of a circle with the same area as the region.\n",
      "    **euler_number** : int\n",
      "        Euler characteristic of region. Computed as number of objects (= 1)\n",
      "        subtracted by number of holes (8-connectivity).\n",
      "    **extent** : float\n",
      "        Ratio of pixels in the region to pixels in the total bounding box.\n",
      "        Computed as ``area / (rows * cols)``\n",
      "    **filled_area** : int\n",
      "        Number of pixels of filled region.\n",
      "    **filled_image** : (H, J) ndarray\n",
      "        Binary region image with filled holes which has the same size as\n",
      "        bounding box.\n",
      "    **image** : (H, J) ndarray\n",
      "        Sliced binary region image which has the same size as bounding box.\n",
      "    **inertia_tensor** : (2, 2) ndarray\n",
      "        Inertia tensor of the region for the rotation around its mass.\n",
      "    **inertia_tensor_eigvals** : tuple\n",
      "        The two eigen values of the inertia tensor in decreasing order.\n",
      "    **intensity_image** : ndarray\n",
      "        Image inside region bounding box.\n",
      "    **label** : int\n",
      "        The label in the labeled input image.\n",
      "    **local_centroid** : array\n",
      "        Centroid coordinate tuple ``(row, col)``, relative to region bounding\n",
      "        box.\n",
      "    **major_axis_length** : float\n",
      "        The length of the major axis of the ellipse that has the same\n",
      "        normalized second central moments as the region.\n",
      "    **max_intensity** : float\n",
      "        Value with the greatest intensity in the region.\n",
      "    **mean_intensity** : float\n",
      "        Value with the mean intensity in the region.\n",
      "    **min_intensity** : float\n",
      "        Value with the least intensity in the region.\n",
      "    **minor_axis_length** : float\n",
      "        The length of the minor axis of the ellipse that has the same\n",
      "        normalized second central moments as the region.\n",
      "    **moments** : (3, 3) ndarray\n",
      "        Spatial moments up to 3rd order::\n",
      "    \n",
      "            m_ji = sum{ array(x, y) * x^j * y^i }\n",
      "    \n",
      "        where the sum is over the `x`, `y` coordinates of the region.\n",
      "    **moments_central** : (3, 3) ndarray\n",
      "        Central moments (translation invariant) up to 3rd order::\n",
      "    \n",
      "            mu_ji = sum{ array(x, y) * (x - x_c)^j * (y - y_c)^i }\n",
      "    \n",
      "        where the sum is over the `x`, `y` coordinates of the region,\n",
      "        and `x_c` and `y_c` are the coordinates of the region's centroid.\n",
      "    **moments_hu** : tuple\n",
      "        Hu moments (translation, scale and rotation invariant).\n",
      "    **moments_normalized** : (3, 3) ndarray\n",
      "        Normalized moments (translation and scale invariant) up to 3rd order::\n",
      "    \n",
      "            nu_ji = mu_ji / m_00^[(i+j)/2 + 1]\n",
      "    \n",
      "        where `m_00` is the zeroth spatial moment.\n",
      "    **orientation** : float\n",
      "        Angle between the X-axis and the major axis of the ellipse that has\n",
      "        the same second-moments as the region. Ranging from `-pi/2` to\n",
      "        `pi/2` in counter-clockwise direction.\n",
      "    **perimeter** : float\n",
      "        Perimeter of object which approximates the contour as a line\n",
      "        through the centers of border pixels using a 4-connectivity.\n",
      "    **solidity** : float\n",
      "        Ratio of pixels in the region to pixels of the convex hull image.\n",
      "    **weighted_centroid** : array\n",
      "        Centroid coordinate tuple ``(row, col)`` weighted with intensity\n",
      "        image.\n",
      "    **weighted_local_centroid** : array\n",
      "        Centroid coordinate tuple ``(row, col)``, relative to region bounding\n",
      "        box, weighted with intensity image.\n",
      "    **weighted_moments** : (3, 3) ndarray\n",
      "        Spatial moments of intensity image up to 3rd order::\n",
      "    \n",
      "            wm_ji = sum{ array(x, y) * x^j * y^i }\n",
      "    \n",
      "        where the sum is over the `x`, `y` coordinates of the region.\n",
      "    **weighted_moments_central** : (3, 3) ndarray\n",
      "        Central moments (translation invariant) of intensity image up to\n",
      "        3rd order::\n",
      "    \n",
      "            wmu_ji = sum{ array(x, y) * (x - x_c)^j * (y - y_c)^i }\n",
      "    \n",
      "        where the sum is over the `x`, `y` coordinates of the region,\n",
      "        and `x_c` and `y_c` are the coordinates of the region's weighted\n",
      "        centroid.\n",
      "    **weighted_moments_hu** : tuple\n",
      "        Hu moments (translation, scale and rotation invariant) of intensity\n",
      "        image.\n",
      "    **weighted_moments_normalized** : (3, 3) ndarray\n",
      "        Normalized moments (translation and scale invariant) of intensity\n",
      "        image up to 3rd order::\n",
      "    \n",
      "            wnu_ji = wmu_ji / wm_00^[(i+j)/2 + 1]\n",
      "    \n",
      "        where ``wm_00`` is the zeroth spatial moment (intensity-weighted area).\n",
      "    \n",
      "    Each region also supports iteration, so that you can do::\n",
      "    \n",
      "      for prop in region:\n",
      "          print(prop, region[prop])\n",
      "    \n",
      "    See Also\n",
      "    --------\n",
      "    label\n",
      "    \n",
      "    References\n",
      "    ----------\n",
      "    .. [1] Wilhelm Burger, Mark Burge. Principles of Digital Image Processing:\n",
      "           Core Algorithms. Springer-Verlag, London, 2009.\n",
      "    .. [2] B. Jähne. Digital Image Processing. Springer-Verlag,\n",
      "           Berlin-Heidelberg, 6. edition, 2005.\n",
      "    .. [3] T. H. Reiss. Recognizing Planar Objects Using Invariant Image\n",
      "           Features, from Lecture notes in computer science, p. 676. Springer,\n",
      "           Berlin, 1993.\n",
      "    .. [4] http://en.wikipedia.org/wiki/Image_moment\n",
      "    \n",
      "    Examples\n",
      "    --------\n",
      "    >>> from skimage import data, util\n",
      "    >>> from skimage.measure import label\n",
      "    >>> img = util.img_as_ubyte(data.coins()) > 110\n",
      "    >>> label_img = label(img, connectivity=img.ndim)\n",
      "    >>> props = regionprops(label_img)\n",
      "    >>> # centroid of first labeled object\n",
      "    >>> props[0].centroid\n",
      "    (22.729879860483141, 81.912285234465827)\n",
      "    >>> # centroid of first labeled object\n",
      "    >>> props[0]['centroid']\n",
      "    (22.729879860483141, 81.912285234465827)\n",
      "\n"
     ]
    }
   ],
   "source": [
    "help(regionprops)"
   ]
  },
  {
   "cell_type": "code",
   "execution_count": 48,
   "metadata": {},
   "outputs": [
    {
     "data": {
      "text/plain": [
       "array([[0., 0., 1., 1., 1., 1., 1., 1., 1., 1.],\n",
       "       [1., 1., 1., 1., 1., 1., 1., 1., 1., 1.],\n",
       "       [1., 1., 1., 1., 1., 1., 1., 1., 1., 1.],\n",
       "       [1., 1., 1., 1., 1., 1., 1., 1., 1., 1.],\n",
       "       [1., 1., 1., 1., 1., 1., 1., 1., 1., 1.],\n",
       "       [1., 1., 1., 1., 1., 1., 1., 1., 1., 1.],\n",
       "       [1., 1., 1., 1., 1., 1., 1., 1., 1., 1.],\n",
       "       [1., 1., 1., 1., 1., 1., 1., 1., 1., 1.],\n",
       "       [1., 1., 1., 1., 1., 1., 1., 1., 1., 1.]])"
      ]
     },
     "execution_count": 48,
     "metadata": {},
     "output_type": "execute_result"
    }
   ],
   "source": [
    "all_masks1[174:183, 280:290]"
   ]
  },
  {
   "cell_type": "code",
   "execution_count": 40,
   "metadata": {},
   "outputs": [],
   "source": [
    "masks.dropna(inplace=True)\n"
   ]
  },
  {
   "cell_type": "code",
   "execution_count": 56,
   "metadata": {},
   "outputs": [],
   "source": [
    "all_res = []\n",
    "def agg(df):\n",
    "    ms = df['EncodedPixels'].tolist()\n",
    "    all_masks1 = np.zeros((768, 768))\n",
    "    for m in ms:\n",
    "        all_masks1 += rle_decode(m)\n",
    "    all_res.append(all_masks1)\n",
    "    return 0\n",
    "masks_special = masks.loc[masks['ImageId'] == '000194a2d.jpg']\n"
   ]
  },
  {
   "cell_type": "code",
   "execution_count": 57,
   "metadata": {},
   "outputs": [
    {
     "data": {
      "text/html": [
       "<div>\n",
       "<style>\n",
       "    .dataframe thead tr:only-child th {\n",
       "        text-align: right;\n",
       "    }\n",
       "\n",
       "    .dataframe thead th {\n",
       "        text-align: left;\n",
       "    }\n",
       "\n",
       "    .dataframe tbody tr th {\n",
       "        vertical-align: top;\n",
       "    }\n",
       "</style>\n",
       "<table border=\"1\" class=\"dataframe\">\n",
       "  <thead>\n",
       "    <tr style=\"text-align: right;\">\n",
       "      <th></th>\n",
       "      <th>ImageId</th>\n",
       "      <th>EncodedPixels</th>\n",
       "    </tr>\n",
       "  </thead>\n",
       "  <tbody>\n",
       "    <tr>\n",
       "      <th>3</th>\n",
       "      <td>000194a2d.jpg</td>\n",
       "      <td>360486 1 361252 4 362019 5 362785 8 363552 10 ...</td>\n",
       "    </tr>\n",
       "    <tr>\n",
       "      <th>4</th>\n",
       "      <td>000194a2d.jpg</td>\n",
       "      <td>51834 9 52602 9 53370 9 54138 9 54906 9 55674 ...</td>\n",
       "    </tr>\n",
       "    <tr>\n",
       "      <th>5</th>\n",
       "      <td>000194a2d.jpg</td>\n",
       "      <td>198320 10 199088 10 199856 10 200624 10 201392...</td>\n",
       "    </tr>\n",
       "    <tr>\n",
       "      <th>6</th>\n",
       "      <td>000194a2d.jpg</td>\n",
       "      <td>55683 1 56451 1 57219 1 57987 1 58755 1 59523 ...</td>\n",
       "    </tr>\n",
       "    <tr>\n",
       "      <th>7</th>\n",
       "      <td>000194a2d.jpg</td>\n",
       "      <td>254389 9 255157 17 255925 17 256693 17 257461 ...</td>\n",
       "    </tr>\n",
       "  </tbody>\n",
       "</table>\n",
       "</div>"
      ],
      "text/plain": [
       "         ImageId                                      EncodedPixels\n",
       "3  000194a2d.jpg  360486 1 361252 4 362019 5 362785 8 363552 10 ...\n",
       "4  000194a2d.jpg  51834 9 52602 9 53370 9 54138 9 54906 9 55674 ...\n",
       "5  000194a2d.jpg  198320 10 199088 10 199856 10 200624 10 201392...\n",
       "6  000194a2d.jpg  55683 1 56451 1 57219 1 57987 1 58755 1 59523 ...\n",
       "7  000194a2d.jpg  254389 9 255157 17 255925 17 256693 17 257461 ..."
      ]
     },
     "execution_count": 57,
     "metadata": {},
     "output_type": "execute_result"
    }
   ],
   "source": [
    "masks_special"
   ]
  },
  {
   "cell_type": "code",
   "execution_count": 66,
   "metadata": {},
   "outputs": [],
   "source": [
    "import os\n",
    "# res = masks.groupby('ImageId').aggregate(agg)\n",
    "class MaskLoader:\n",
    "    def __init__(self, data_root):\n",
    "         # load rle file from csv\n",
    "        self.masks_rle = pd.read_csv(os.path.join(data_root, 'train_ship_segmentations_v2.csv'))\n",
    "        # drop the na\n",
    "        self.masks_rle.dropna(inplace=True)\n",
    "\n",
    "    def __getitem__(self, imageId):\n",
    "        return self._get_mask_from_rle(imageId)\n",
    "\n",
    "    # TODO peformance benchmarking this shit \n",
    "    def _get_mask_from_rle(self, imageId):\n",
    "        mask = self.masks_rle.loc[masks['ImageId'] == imageId, 'EncodedPixels'].tolist()\n",
    "        if len(mask) == 0:\n",
    "            return None\n",
    "        res = np.zeros((768, 768))\n",
    "        for m in mask:\n",
    "            res += rle_decode(m)\n",
    "        return res"
   ]
  },
  {
   "cell_type": "code",
   "execution_count": 67,
   "metadata": {},
   "outputs": [],
   "source": [
    "a = MaskLoader('/Users/wsm/Desktop/')"
   ]
  },
  {
   "cell_type": "code",
   "execution_count": 68,
   "metadata": {},
   "outputs": [
    {
     "data": {
      "text/plain": [
       "array([[0., 0., 0., ..., 0., 0., 0.],\n",
       "       [0., 0., 0., ..., 0., 0., 0.],\n",
       "       [0., 0., 0., ..., 0., 0., 0.],\n",
       "       ...,\n",
       "       [0., 0., 0., ..., 0., 0., 0.],\n",
       "       [0., 0., 0., ..., 0., 0., 0.],\n",
       "       [0., 0., 0., ..., 0., 0., 0.]])"
      ]
     },
     "execution_count": 68,
     "metadata": {},
     "output_type": "execute_result"
    }
   ],
   "source": [
    "a['000194a2d.jpg']"
   ]
  },
  {
   "cell_type": "code",
   "execution_count": 87,
   "metadata": {},
   "outputs": [],
   "source": [
    "import logging"
   ]
  },
  {
   "cell_type": "code",
   "execution_count": 88,
   "metadata": {},
   "outputs": [
    {
     "name": "stderr",
     "output_type": "stream",
     "text": [
      "WARNING:root:shit\n"
     ]
    }
   ],
   "source": [
    "logging.warning('shit')"
   ]
  },
  {
   "cell_type": "code",
   "execution_count": 90,
   "metadata": {},
   "outputs": [],
   "source": [
    "a = [1,1,1,1]"
   ]
  },
  {
   "cell_type": "code",
   "execution_count": 95,
   "metadata": {},
   "outputs": [],
   "source": [
    "b = [10 for i in a if i > 10]"
   ]
  },
  {
   "cell_type": "code",
   "execution_count": 96,
   "metadata": {},
   "outputs": [
    {
     "data": {
      "text/plain": [
       "[]"
      ]
     },
     "execution_count": 96,
     "metadata": {},
     "output_type": "execute_result"
    }
   ],
   "source": [
    "b"
   ]
  },
  {
   "cell_type": "code",
   "execution_count": 97,
   "metadata": {},
   "outputs": [
    {
     "data": {
      "text/plain": [
       "'sdfsdf shit'"
      ]
     },
     "execution_count": 97,
     "metadata": {},
     "output_type": "execute_result"
    }
   ],
   "source": [
    "\"sdfsdf {}\".format('shit')"
   ]
  },
  {
   "cell_type": "code",
   "execution_count": 99,
   "metadata": {},
   "outputs": [
    {
     "name": "stdout",
     "output_type": "stream",
     "text": [
      "sdfsdfsdfsdfsfsdfsfd\n"
     ]
    }
   ],
   "source": [
    "print('sdfsdf'\n",
    "            'sdfsdfsf'\n",
    "            'sdfsfd')"
   ]
  },
  {
   "cell_type": "code",
   "execution_count": null,
   "metadata": {},
   "outputs": [],
   "source": []
  }
 ],
 "metadata": {
  "kernelspec": {
   "display_name": "Python 3",
   "language": "python",
   "name": "python3"
  },
  "language_info": {
   "codemirror_mode": {
    "name": "ipython",
    "version": 3
   },
   "file_extension": ".py",
   "mimetype": "text/x-python",
   "name": "python",
   "nbconvert_exporter": "python",
   "pygments_lexer": "ipython3",
   "version": "3.6.5"
  }
 },
 "nbformat": 4,
 "nbformat_minor": 2
}
